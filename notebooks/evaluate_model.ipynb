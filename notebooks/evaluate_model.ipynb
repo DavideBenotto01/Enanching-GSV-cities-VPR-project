{
 "cells": [
  {
   "attachments": {},
   "cell_type": "markdown",
   "metadata": {},
   "source": [
    "## Test notebook\n",
    "Here we tested on sf-xs-test and tokyo-xs from the precious traine model\n"
   ]
  },
  {
   "cell_type": "code",
   "execution_count": null,
   "metadata": {},
   "outputs": [],
   "source": [
    "%reload_ext autoreload\n",
    "%autoreload 2\n",
    "\n",
    "import sys\n",
    "sys.path.append('..') # append parent directory, we need it\n",
    "\n",
    "import torch\n",
    "from torch.utils.data import Dataset, DataLoader\n",
    "import torchvision.transforms as T\n",
    "# import matplotlib.pyplot as plt\n",
    "import numpy as np\n",
    "from tqdm.notebook import tqdm\n",
    "from utils.validation import get_validation_recalls\n",
    "import os\n",
    "\n",
    "os.environ['KMP_DUPLICATE_LIB_OK'] = 'TRUE'\n",
    "os.environ[\"OMP_NUM_THREADS\"] = \"1\""
   ]
  },
  {
   "cell_type": "code",
   "execution_count": null,
   "metadata": {},
   "outputs": [],
   "source": [
    "MEAN=[0.485, 0.456, 0.406]; STD=[0.229, 0.224, 0.225]\n",
    "\n",
    "IM_SIZE = (320, 320)\n",
    "\n",
    "def input_transform(image_size=IM_SIZE):\n",
    "    return T.Compose([\n",
    "        # T.Resize(image_size, interpolation=T.InterpolationMode.BICUBIC),\n",
    "\t\tT.Resize(image_size,  interpolation=T.InterpolationMode.BILINEAR),\n",
    "        \n",
    "        T.ToTensor(),\n",
    "        T.Normalize(mean=MEAN, std=STD)\n",
    "    ])"
   ]
  },
  {
   "attachments": {},
   "cell_type": "markdown",
   "metadata": {},
   "source": [
    "In this project, we provide for each benchmark (or test dataset) a Dataset Class that encapsulates images sequentially as follows: \n",
    "\n",
    "$[R_1, R_2, ..., R_n, Q_1, Q_2, ..., Q_m]$ where $R_i$ are the reference images and $Q_i$ are the queries. We keep the number of references and queries as variables in the object so that we can split into references/queries later when evaluating. We also store a ground_truth matrix that indicates which references are prositives for each query.\n",
    "\n",
    "**Note:** make sure that for every [BenchmarkClass].py, the global variable DATASET_ROOT (where each dataset images are located) is well initialized, otherwise you won't be able to run the following steps. Also, GT_ROOT is the location of the precomputed ground_truth and filenames that WE PROVIDED (by default in ../datasets/)."
   ]
  },
  {
   "cell_type": "code",
   "execution_count": null,
   "metadata": {},
   "outputs": [],
   "source": [
    "from dataloaders.val.SFDataset import SFDataset\n",
    "from dataloaders.val.TokyoDataset import TokyoDataset\n",
    "\n",
    "\n",
    "def get_val_dataset(dataset_name, input_transform=input_transform()):\n",
    "    dataset_name = dataset_name.lower()\n",
    "    \n",
    "    if 'sfxs_val' in dataset_name:\n",
    "        ds = SFDataset(input_transform = input_transform, val_test='val')\n",
    "    elif 'sfxs_test' in dataset_name:\n",
    "        ds = SFDataset(input_transform = input_transform, val_test='test')\n",
    "    elif 'tokyo' in dataset_name:\n",
    "        ds = TokyoDataset(input_transform = input_transform)\n",
    "    else:\n",
    "        raise ValueError\n",
    "    \n",
    "    num_references = ds.num_references\n",
    "    num_queries = ds.num_queries\n",
    "    ground_truth = ds.ground_truth\n",
    "    return ds, num_references, num_queries, ground_truth"
   ]
  },
  {
   "cell_type": "markdown",
   "metadata": {},
   "source": [
    "We define a function to which we give a model, a dataloader and it returns the resulting representations"
   ]
  },
  {
   "cell_type": "code",
   "execution_count": null,
   "metadata": {},
   "outputs": [],
   "source": [
    "def get_descriptors(model, dataloader, device):\n",
    "    descriptors = []\n",
    "    with torch.no_grad():\n",
    "        for batch in tqdm(dataloader, 'Calculating descritptors...'):\n",
    "            imgs, labels = batch\n",
    "            output = model(imgs.to(device)).cpu()\n",
    "            descriptors.append(output)\n",
    "\n",
    "    return torch.cat(descriptors)"
   ]
  },
  {
   "cell_type": "markdown",
   "metadata": {},
   "source": [
    "## Let's now load a pre-trained model and evaluating on all benchmarks\n"
   ]
  },
  {
   "cell_type": "code",
   "execution_count": null,
   "metadata": {},
   "outputs": [
    {
     "name": "stdout",
     "output_type": "stream",
     "text": [
      "resnet18sf_xs_val_epoch(04)_step(9770)_R1[0.5307]_R5[0.6902].ckpt\n",
      "Evaluating on sfxs_val\n"
     ]
    },
    {
     "data": {
      "application/vnd.jupyter.widget-view+json": {
       "model_id": "64fe0f645dcc4ae68f0c3e86b14a391e",
       "version_major": 2,
       "version_minor": 0
      },
      "text/plain": [
       "Calculating descritptors...:   0%|          | 0/401 [00:00<?, ?it/s]"
      ]
     },
     "metadata": {},
     "output_type": "display_data"
    },
    {
     "name": "stdout",
     "output_type": "stream",
     "text": [
      "Descriptor dimension 256\n",
      "\n",
      "\n",
      "+----------------------------------------------------------+\n",
      "|                 Performance on sfxs_val                  |\n",
      "+----------+-------+-------+-------+-------+-------+-------+\n",
      "|    K     |   1   |   5   |   10  |   15  |   20  |   25  |\n",
      "+----------+-------+-------+-------+-------+-------+-------+\n",
      "| Recall@K | 53.06 | 69.06 | 75.43 | 78.87 | 81.32 | 83.02 |\n",
      "+----------+-------+-------+-------+-------+-------+-------+\n",
      "========> DONE!\n",
      "\n",
      "\n",
      "Evaluating on sfxs_test\n"
     ]
    },
    {
     "data": {
      "application/vnd.jupyter.widget-view+json": {
       "model_id": "592dc324bb5240dcb3c4d3bff259efaa",
       "version_major": 2,
       "version_minor": 0
      },
      "text/plain": [
       "Calculating descritptors...:   0%|          | 0/705 [00:00<?, ?it/s]"
      ]
     },
     "metadata": {},
     "output_type": "display_data"
    },
    {
     "name": "stdout",
     "output_type": "stream",
     "text": [
      "Descriptor dimension 256\n",
      "\n",
      "\n",
      "+----------------------------------------------------------+\n",
      "|                 Performance on sfxs_test                 |\n",
      "+----------+-------+-------+-------+-------+-------+-------+\n",
      "|    K     |   1   |   5   |   10  |   15  |   20  |   25  |\n",
      "+----------+-------+-------+-------+-------+-------+-------+\n",
      "| Recall@K | 21.30 | 33.00 | 40.70 | 46.20 | 49.20 | 51.00 |\n",
      "+----------+-------+-------+-------+-------+-------+-------+\n",
      "========> DONE!\n",
      "\n",
      "\n",
      "Evaluating on tokyo\n"
     ]
    },
    {
     "data": {
      "application/vnd.jupyter.widget-view+json": {
       "model_id": "f0e264fe1c394797ace752ebef39cfbc",
       "version_major": 2,
       "version_minor": 0
      },
      "text/plain": [
       "Calculating descritptors...:   0%|          | 0/328 [00:00<?, ?it/s]"
      ]
     },
     "metadata": {},
     "output_type": "display_data"
    },
    {
     "name": "stdout",
     "output_type": "stream",
     "text": [
      "Descriptor dimension 256\n",
      "\n",
      "\n",
      "+----------------------------------------------------------+\n",
      "|                   Performance on tokyo                   |\n",
      "+----------+-------+-------+-------+-------+-------+-------+\n",
      "|    K     |   1   |   5   |   10  |   15  |   20  |   25  |\n",
      "+----------+-------+-------+-------+-------+-------+-------+\n",
      "| Recall@K | 33.65 | 52.38 | 60.32 | 66.03 | 69.84 | 72.38 |\n",
      "+----------+-------+-------+-------+-------+-------+-------+\n",
      "========> DONE!\n",
      "\n",
      "\n",
      "resnet18sf_xs_val_epoch(09)_step(19540)_R1[0.5610]_R5[0.7151].ckpt\n",
      "Evaluating on sfxs_val\n"
     ]
    },
    {
     "data": {
      "application/vnd.jupyter.widget-view+json": {
       "model_id": "033c4b6274924b98afed0ce46a68fad0",
       "version_major": 2,
       "version_minor": 0
      },
      "text/plain": [
       "Calculating descritptors...:   0%|          | 0/401 [00:00<?, ?it/s]"
      ]
     },
     "metadata": {},
     "output_type": "display_data"
    },
    {
     "name": "stdout",
     "output_type": "stream",
     "text": [
      "Descriptor dimension 256\n",
      "\n",
      "\n",
      "+----------------------------------------------------------+\n",
      "|                 Performance on sfxs_val                  |\n",
      "+----------+-------+-------+-------+-------+-------+-------+\n",
      "|    K     |   1   |   5   |   10  |   15  |   20  |   25  |\n",
      "+----------+-------+-------+-------+-------+-------+-------+\n",
      "| Recall@K | 56.07 | 71.56 | 77.44 | 80.33 | 82.67 | 84.45 |\n",
      "+----------+-------+-------+-------+-------+-------+-------+\n",
      "========> DONE!\n",
      "\n",
      "\n",
      "Evaluating on sfxs_test\n"
     ]
    },
    {
     "data": {
      "application/vnd.jupyter.widget-view+json": {
       "model_id": "7534eedab3a040bca018e6379478cdff",
       "version_major": 2,
       "version_minor": 0
      },
      "text/plain": [
       "Calculating descritptors...:   0%|          | 0/705 [00:00<?, ?it/s]"
      ]
     },
     "metadata": {},
     "output_type": "display_data"
    },
    {
     "name": "stdout",
     "output_type": "stream",
     "text": [
      "Descriptor dimension 256\n",
      "\n",
      "\n",
      "+----------------------------------------------------------+\n",
      "|                 Performance on sfxs_test                 |\n",
      "+----------+-------+-------+-------+-------+-------+-------+\n",
      "|    K     |   1   |   5   |   10  |   15  |   20  |   25  |\n",
      "+----------+-------+-------+-------+-------+-------+-------+\n",
      "| Recall@K | 20.90 | 37.10 | 42.60 | 46.70 | 49.80 | 52.30 |\n",
      "+----------+-------+-------+-------+-------+-------+-------+\n",
      "========> DONE!\n",
      "\n",
      "\n",
      "Evaluating on tokyo\n"
     ]
    },
    {
     "data": {
      "application/vnd.jupyter.widget-view+json": {
       "model_id": "78873c6c678d4459946a5526353650b0",
       "version_major": 2,
       "version_minor": 0
      },
      "text/plain": [
       "Calculating descritptors...:   0%|          | 0/328 [00:00<?, ?it/s]"
      ]
     },
     "metadata": {},
     "output_type": "display_data"
    },
    {
     "name": "stdout",
     "output_type": "stream",
     "text": [
      "Descriptor dimension 256\n",
      "\n",
      "\n",
      "+----------------------------------------------------------+\n",
      "|                   Performance on tokyo                   |\n",
      "+----------+-------+-------+-------+-------+-------+-------+\n",
      "|    K     |   1   |   5   |   10  |   15  |   20  |   25  |\n",
      "+----------+-------+-------+-------+-------+-------+-------+\n",
      "| Recall@K | 35.56 | 52.38 | 59.37 | 65.71 | 68.89 | 70.48 |\n",
      "+----------+-------+-------+-------+-------+-------+-------+\n",
      "========> DONE!\n",
      "\n",
      "\n",
      "resnet18sf_xs_val_epoch(14)_step(29310)_R1[0.5682]_R5[0.7235].ckpt\n",
      "Evaluating on sfxs_val\n"
     ]
    },
    {
     "data": {
      "application/vnd.jupyter.widget-view+json": {
       "model_id": "8476f90e266b4df2b63b8b48b9682e2c",
       "version_major": 2,
       "version_minor": 0
      },
      "text/plain": [
       "Calculating descritptors...:   0%|          | 0/401 [00:00<?, ?it/s]"
      ]
     },
     "metadata": {},
     "output_type": "display_data"
    },
    {
     "name": "stdout",
     "output_type": "stream",
     "text": [
      "Descriptor dimension 256\n",
      "\n",
      "\n",
      "+----------------------------------------------------------+\n",
      "|                 Performance on sfxs_val                  |\n",
      "+----------+-------+-------+-------+-------+-------+-------+\n",
      "|    K     |   1   |   5   |   10  |   15  |   20  |   25  |\n",
      "+----------+-------+-------+-------+-------+-------+-------+\n",
      "| Recall@K | 56.82 | 72.33 | 78.28 | 81.45 | 83.61 | 85.49 |\n",
      "+----------+-------+-------+-------+-------+-------+-------+\n",
      "========> DONE!\n",
      "\n",
      "\n",
      "Evaluating on sfxs_test\n"
     ]
    },
    {
     "data": {
      "application/vnd.jupyter.widget-view+json": {
       "model_id": "6242f41a3db54c8da9d100461ce85d6e",
       "version_major": 2,
       "version_minor": 0
      },
      "text/plain": [
       "Calculating descritptors...:   0%|          | 0/705 [00:00<?, ?it/s]"
      ]
     },
     "metadata": {},
     "output_type": "display_data"
    },
    {
     "name": "stdout",
     "output_type": "stream",
     "text": [
      "Descriptor dimension 256\n",
      "\n",
      "\n",
      "+----------------------------------------------------------+\n",
      "|                 Performance on sfxs_test                 |\n",
      "+----------+-------+-------+-------+-------+-------+-------+\n",
      "|    K     |   1   |   5   |   10  |   15  |   20  |   25  |\n",
      "+----------+-------+-------+-------+-------+-------+-------+\n",
      "| Recall@K | 21.60 | 36.90 | 43.40 | 47.60 | 51.20 | 53.30 |\n",
      "+----------+-------+-------+-------+-------+-------+-------+\n",
      "========> DONE!\n",
      "\n",
      "\n",
      "Evaluating on tokyo\n"
     ]
    },
    {
     "data": {
      "application/vnd.jupyter.widget-view+json": {
       "model_id": "7cd638edb4f44629a5cd8a8079589ffb",
       "version_major": 2,
       "version_minor": 0
      },
      "text/plain": [
       "Calculating descritptors...:   0%|          | 0/328 [00:00<?, ?it/s]"
      ]
     },
     "metadata": {},
     "output_type": "display_data"
    },
    {
     "name": "stdout",
     "output_type": "stream",
     "text": [
      "Descriptor dimension 256\n",
      "\n",
      "\n",
      "+----------------------------------------------------------+\n",
      "|                   Performance on tokyo                   |\n",
      "+----------+-------+-------+-------+-------+-------+-------+\n",
      "|    K     |   1   |   5   |   10  |   15  |   20  |   25  |\n",
      "+----------+-------+-------+-------+-------+-------+-------+\n",
      "| Recall@K | 35.24 | 53.02 | 61.90 | 66.67 | 69.21 | 71.11 |\n",
      "+----------+-------+-------+-------+-------+-------+-------+\n",
      "========> DONE!\n",
      "\n",
      "\n",
      "resnet18sf_xs_val_epoch(19)_step(39080)_R1[0.5689]_R5[0.7246].ckpt\n",
      "Evaluating on sfxs_val\n"
     ]
    },
    {
     "data": {
      "application/vnd.jupyter.widget-view+json": {
       "model_id": "4c8eebf4f8cf4b05995d357b984e6abf",
       "version_major": 2,
       "version_minor": 0
      },
      "text/plain": [
       "Calculating descritptors...:   0%|          | 0/401 [00:00<?, ?it/s]"
      ]
     },
     "metadata": {},
     "output_type": "display_data"
    },
    {
     "name": "stdout",
     "output_type": "stream",
     "text": [
      "Descriptor dimension 256\n",
      "\n",
      "\n",
      "+----------------------------------------------------------+\n",
      "|                 Performance on sfxs_val                  |\n",
      "+----------+-------+-------+-------+-------+-------+-------+\n",
      "|    K     |   1   |   5   |   10  |   15  |   20  |   25  |\n",
      "+----------+-------+-------+-------+-------+-------+-------+\n",
      "| Recall@K | 56.86 | 72.46 | 78.31 | 81.61 | 83.81 | 85.35 |\n",
      "+----------+-------+-------+-------+-------+-------+-------+\n",
      "========> DONE!\n",
      "\n",
      "\n",
      "Evaluating on sfxs_test\n"
     ]
    },
    {
     "data": {
      "application/vnd.jupyter.widget-view+json": {
       "model_id": "4383b53ae20d437d84b4b40ce2444313",
       "version_major": 2,
       "version_minor": 0
      },
      "text/plain": [
       "Calculating descritptors...:   0%|          | 0/705 [00:00<?, ?it/s]"
      ]
     },
     "metadata": {},
     "output_type": "display_data"
    },
    {
     "name": "stdout",
     "output_type": "stream",
     "text": [
      "Descriptor dimension 256\n",
      "\n",
      "\n",
      "+----------------------------------------------------------+\n",
      "|                 Performance on sfxs_test                 |\n",
      "+----------+-------+-------+-------+-------+-------+-------+\n",
      "|    K     |   1   |   5   |   10  |   15  |   20  |   25  |\n",
      "+----------+-------+-------+-------+-------+-------+-------+\n",
      "| Recall@K | 22.50 | 37.00 | 43.20 | 47.70 | 50.40 | 53.20 |\n",
      "+----------+-------+-------+-------+-------+-------+-------+\n",
      "========> DONE!\n",
      "\n",
      "\n",
      "Evaluating on tokyo\n"
     ]
    },
    {
     "data": {
      "application/vnd.jupyter.widget-view+json": {
       "model_id": "5870b22f1b824a8988b516bf1b10c0eb",
       "version_major": 2,
       "version_minor": 0
      },
      "text/plain": [
       "Calculating descritptors...:   0%|          | 0/328 [00:00<?, ?it/s]"
      ]
     },
     "metadata": {},
     "output_type": "display_data"
    },
    {
     "name": "stdout",
     "output_type": "stream",
     "text": [
      "Descriptor dimension 256\n",
      "\n",
      "\n",
      "+----------------------------------------------------------+\n",
      "|                   Performance on tokyo                   |\n",
      "+----------+-------+-------+-------+-------+-------+-------+\n",
      "|    K     |   1   |   5   |   10  |   15  |   20  |   25  |\n",
      "+----------+-------+-------+-------+-------+-------+-------+\n",
      "| Recall@K | 34.60 | 52.70 | 60.32 | 65.08 | 68.57 | 69.84 |\n",
      "+----------+-------+-------+-------+-------+-------+-------+\n",
      "========> DONE!\n",
      "\n",
      "\n",
      "resnet18sf_xs_val_epoch(24)_step(48850)_R1[0.5639]_R5[0.7209].ckpt\n",
      "Evaluating on sfxs_val\n"
     ]
    },
    {
     "data": {
      "application/vnd.jupyter.widget-view+json": {
       "model_id": "b227d687d9c14f9c834c4cc8c32af351",
       "version_major": 2,
       "version_minor": 0
      },
      "text/plain": [
       "Calculating descritptors...:   0%|          | 0/401 [00:00<?, ?it/s]"
      ]
     },
     "metadata": {},
     "output_type": "display_data"
    },
    {
     "name": "stdout",
     "output_type": "stream",
     "text": [
      "Descriptor dimension 256\n",
      "\n",
      "\n",
      "+----------------------------------------------------------+\n",
      "|                 Performance on sfxs_val                  |\n",
      "+----------+-------+-------+-------+-------+-------+-------+\n",
      "|    K     |   1   |   5   |   10  |   15  |   20  |   25  |\n",
      "+----------+-------+-------+-------+-------+-------+-------+\n",
      "| Recall@K | 56.42 | 72.08 | 77.93 | 81.01 | 83.42 | 84.96 |\n",
      "+----------+-------+-------+-------+-------+-------+-------+\n",
      "========> DONE!\n",
      "\n",
      "\n",
      "Evaluating on sfxs_test\n"
     ]
    },
    {
     "data": {
      "application/vnd.jupyter.widget-view+json": {
       "model_id": "aff19e38d30444ae9c4447a12cc65a5b",
       "version_major": 2,
       "version_minor": 0
      },
      "text/plain": [
       "Calculating descritptors...:   0%|          | 0/705 [00:00<?, ?it/s]"
      ]
     },
     "metadata": {},
     "output_type": "display_data"
    },
    {
     "name": "stdout",
     "output_type": "stream",
     "text": [
      "Descriptor dimension 256\n",
      "\n",
      "\n",
      "+----------------------------------------------------------+\n",
      "|                 Performance on sfxs_test                 |\n",
      "+----------+-------+-------+-------+-------+-------+-------+\n",
      "|    K     |   1   |   5   |   10  |   15  |   20  |   25  |\n",
      "+----------+-------+-------+-------+-------+-------+-------+\n",
      "| Recall@K | 22.20 | 37.20 | 43.30 | 47.30 | 51.30 | 52.80 |\n",
      "+----------+-------+-------+-------+-------+-------+-------+\n",
      "========> DONE!\n",
      "\n",
      "\n",
      "Evaluating on tokyo\n"
     ]
    },
    {
     "data": {
      "application/vnd.jupyter.widget-view+json": {
       "model_id": "ffb5ef5722074434a1d7ee630e9cc2e5",
       "version_major": 2,
       "version_minor": 0
      },
      "text/plain": [
       "Calculating descritptors...:   0%|          | 0/328 [00:00<?, ?it/s]"
      ]
     },
     "metadata": {},
     "output_type": "display_data"
    },
    {
     "name": "stdout",
     "output_type": "stream",
     "text": [
      "Descriptor dimension 256\n",
      "\n",
      "\n",
      "+----------------------------------------------------------+\n",
      "|                   Performance on tokyo                   |\n",
      "+----------+-------+-------+-------+-------+-------+-------+\n",
      "|    K     |   1   |   5   |   10  |   15  |   20  |   25  |\n",
      "+----------+-------+-------+-------+-------+-------+-------+\n",
      "| Recall@K | 33.02 | 52.38 | 60.00 | 63.49 | 68.25 | 72.06 |\n",
      "+----------+-------+-------+-------+-------+-------+-------+\n",
      "========> DONE!\n",
      "\n",
      "\n",
      "resnet18sf_xs_val_epoch(29)_step(58620)_R1[0.5712]_R5[0.7270].ckpt\n",
      "Evaluating on sfxs_val\n"
     ]
    },
    {
     "data": {
      "application/vnd.jupyter.widget-view+json": {
       "model_id": "eafb336d91e54c68ac8cfc2aa3fe571d",
       "version_major": 2,
       "version_minor": 0
      },
      "text/plain": [
       "Calculating descritptors...:   0%|          | 0/401 [00:00<?, ?it/s]"
      ]
     },
     "metadata": {},
     "output_type": "display_data"
    },
    {
     "name": "stdout",
     "output_type": "stream",
     "text": [
      "Descriptor dimension 256\n",
      "\n",
      "\n",
      "+----------------------------------------------------------+\n",
      "|                 Performance on sfxs_val                  |\n",
      "+----------+-------+-------+-------+-------+-------+-------+\n",
      "|    K     |   1   |   5   |   10  |   15  |   20  |   25  |\n",
      "+----------+-------+-------+-------+-------+-------+-------+\n",
      "| Recall@K | 57.12 | 72.68 | 78.22 | 81.33 | 83.71 | 85.40 |\n",
      "+----------+-------+-------+-------+-------+-------+-------+\n",
      "========> DONE!\n",
      "\n",
      "\n",
      "Evaluating on sfxs_test\n"
     ]
    },
    {
     "data": {
      "application/vnd.jupyter.widget-view+json": {
       "model_id": "aa8a74cc5ef54cf5bef21f1cc4a14908",
       "version_major": 2,
       "version_minor": 0
      },
      "text/plain": [
       "Calculating descritptors...:   0%|          | 0/705 [00:00<?, ?it/s]"
      ]
     },
     "metadata": {},
     "output_type": "display_data"
    },
    {
     "name": "stdout",
     "output_type": "stream",
     "text": [
      "Descriptor dimension 256\n",
      "\n",
      "\n",
      "+----------------------------------------------------------+\n",
      "|                 Performance on sfxs_test                 |\n",
      "+----------+-------+-------+-------+-------+-------+-------+\n",
      "|    K     |   1   |   5   |   10  |   15  |   20  |   25  |\n",
      "+----------+-------+-------+-------+-------+-------+-------+\n",
      "| Recall@K | 23.00 | 37.10 | 43.80 | 48.60 | 51.70 | 54.20 |\n",
      "+----------+-------+-------+-------+-------+-------+-------+\n",
      "========> DONE!\n",
      "\n",
      "\n",
      "Evaluating on tokyo\n"
     ]
    },
    {
     "data": {
      "application/vnd.jupyter.widget-view+json": {
       "model_id": "e19b3c9904934e3d8fdcf12e0b1c83d2",
       "version_major": 2,
       "version_minor": 0
      },
      "text/plain": [
       "Calculating descritptors...:   0%|          | 0/328 [00:00<?, ?it/s]"
      ]
     },
     "metadata": {},
     "output_type": "display_data"
    },
    {
     "name": "stdout",
     "output_type": "stream",
     "text": [
      "Descriptor dimension 256\n",
      "\n",
      "\n",
      "+----------------------------------------------------------+\n",
      "|                   Performance on tokyo                   |\n",
      "+----------+-------+-------+-------+-------+-------+-------+\n",
      "|    K     |   1   |   5   |   10  |   15  |   20  |   25  |\n",
      "+----------+-------+-------+-------+-------+-------+-------+\n",
      "| Recall@K | 34.29 | 51.75 | 59.37 | 64.13 | 69.52 | 73.33 |\n",
      "+----------+-------+-------+-------+-------+-------+-------+\n",
      "========> DONE!\n",
      "\n",
      "\n"
     ]
    }
   ],
   "source": [
    "from main import VPRModel\n",
    "from pathlib import Path\n",
    "\n",
    "# define which device you'd like run experiments on (cuda:0 if you only have one gpu)\n",
    "device = torch.device(\"cuda:0\" if torch.cuda.is_available() else \"cpu\")\n",
    "\n",
    "model = VPRModel(backbone_arch='resnet18', \n",
    "                 layers_to_crop=[4],\n",
    "                 agg_arch='gem',\n",
    "                 agg_config={'p': 3},\n",
    "        )\n",
    "\n",
    "file = Path('outputs\\checkpoints\\HT_gem3_adamw_lr1e-3_wd1\\resnet18[gem3_AdamW_lr1e-3_wd1]sf_xs_val_epoch(14)_step(29310)_R1[0.5886]_R5[0.7370].ckpt')\n",
    "state_dict = torch.load(file) # link to the trained weights\n",
    "# model.load_state_dict(state_dict, strict=False)\n",
    "model.load_state_dict(state_dict['state_dict'])\n",
    "model.eval()\n",
    "model = model.to(device)\n",
    "\n",
    "val_dataset_names = ['sfxs_val', 'sfxs_test', 'tokyo']\n",
    "batch_size = 40\n",
    "\n",
    "for val_name in val_dataset_names:\n",
    "    val_dataset, num_references, num_queries, ground_truth = get_val_dataset(val_name)\n",
    "    val_loader = DataLoader(val_dataset, num_workers=4, batch_size=batch_size)\n",
    "    print(f'Evaluating on {val_name}')\n",
    "    descriptors = get_descriptors(model, val_loader, device)\n",
    "    \n",
    "    print(f'Descriptor dimension {descriptors.shape[1]}')\n",
    "    r_list = descriptors[ : num_references]\n",
    "    q_list = descriptors[num_references : ]\n",
    "\n",
    "    recalls_dict, preds = get_validation_recalls(r_list=r_list,\n",
    "                                                q_list=q_list,\n",
    "                                                k_values=[1, 5, 10, 15, 20, 25],\n",
    "                                                gt=ground_truth,\n",
    "                                                print_results=True,\n",
    "                                                dataset_name=val_name,\n",
    "                                                faiss_gpu=False\n",
    "                                                )\n",
    "    del descriptors\n",
    "    print('========> DONE!\\n\\n')\n"
   ]
  }
 ],
 "metadata": {
  "kernelspec": {
   "display_name": "Python 3 (ipykernel)",
   "language": "python",
   "name": "python3"
  },
  "language_info": {
   "codemirror_mode": {
    "name": "ipython",
    "version": 3
   },
   "file_extension": ".py",
   "mimetype": "text/x-python",
   "name": "python",
   "nbconvert_exporter": "python",
   "pygments_lexer": "ipython3",
   "version": "3.11.0"
  },
  "vscode": {
   "interpreter": {
    "hash": "13e28b63dcb11f8cc8ca6da5fb3a89358e6ee1c494e903d975090f8ad11f1453"
   }
  }
 },
 "nbformat": 4,
 "nbformat_minor": 4
}
